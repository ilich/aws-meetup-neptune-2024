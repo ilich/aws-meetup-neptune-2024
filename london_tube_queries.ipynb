{
 "cells": [
  {
   "cell_type": "code",
   "execution_count": null,
   "id": "f8ce7a13",
   "metadata": {},
   "outputs": [],
   "source": [
    "%%oc\n",
    "MATCH (n:Line) \n",
    "RETURN n; "
   ]
  },
  {
   "cell_type": "code",
   "execution_count": null,
   "id": "3b989366",
   "metadata": {},
   "outputs": [],
   "source": [
    "%%oc\n",
    "MATCH (l:Line {name: 'Victoria Line'})-[r:CONSISTS_OF]->(s1:Station)\n",
    "MATCH (s1)-[c:CONNECTS_TO]->(s2:Station)\n",
    "RETURN l, r, s1, c, s2;"
   ]
  },
  {
   "cell_type": "code",
   "execution_count": null,
   "id": "8e4ed071",
   "metadata": {},
   "outputs": [],
   "source": [
    "%%oc\n",
    "MATCH (p:Person)-[rl:LIVES_NEAR]->(s:Station)\n",
    "MATCH (l:Line)-[rc:CONSISTS_OF]->(s)\n",
    "WHERE p.name = 'Alison'\n",
    "RETURN p, s, l, rl, rc;\n"
   ]
  },
  {
   "cell_type": "code",
   "execution_count": null,
   "id": "7c5b9cb8",
   "metadata": {},
   "outputs": [],
   "source": [
    "%%oc\n",
    "MATCH (p:Person {name: 'Bob'})-[rl:LIVES_NEAR]->(s:Station)\n",
    "MATCH (l:Line)-[rc:CONSISTS_OF]->(s)\n",
    "RETURN p, s, l, rl, rc;"
   ]
  },
  {
   "cell_type": "code",
   "execution_count": null,
   "id": "e9465a0c",
   "metadata": {},
   "outputs": [],
   "source": [
    "%%oc\n",
    "MATCH \n",
    "    (alison:Person {name: \"Alison\"})-[la:LIVES_NEAR]->(sa:Station),\n",
    "    (bob:Person {name: \"Bob\"})-[lb:LIVES_NEAR]->(sb:Station),\n",
    "    p = shortestPath((sa)-[:CONNECTS_TO*]-(sb))\n",
    "RETURN alison,la, bob, lb, p;"
   ]
  },
  {
   "cell_type": "markdown",
   "id": "83569d4c",
   "metadata": {},
   "source": [
    "**IMPORTANT!**: shortestPath() and allShortestPaths() are not currently supported.\n",
    "\n",
    "**Use Python libraries like [NetworkX](https://networkx.org/) and [AWS SDK for pandas (awswrangler)](https://github.com/aws/aws-sdk-pandas/blob/main/tutorials/033%20-%20Amazon%20Neptune.ipynb) instead.**"
   ]
  },
  {
   "cell_type": "code",
   "execution_count": null,
   "id": "3529995b",
   "metadata": {},
   "outputs": [],
   "source": [
    "%%oc\n",
    "MATCH \n",
    "    (alison:Person {name: \"Alison\"})-[la:LIVES_NEAR]->(sa:Station),\n",
    "    (bob:Person {name: \"Bob\"})-[lb:LIVES_NEAR]->(sb:Station),\n",
    "    (sa)-[p:CONNECTS_TO*..10]-(sb)\n",
    "RETURN alison,la, bob, lb, p;"
   ]
  },
  {
   "cell_type": "markdown",
   "id": "3c1b8c5b",
   "metadata": {},
   "source": [
    "Use two cells in the Notebook to move Bob to Canary Wharf"
   ]
  },
  {
   "cell_type": "code",
   "execution_count": null,
   "id": "cd23081e",
   "metadata": {},
   "outputs": [],
   "source": [
    "%%oc\n",
    "MATCH (p:Person {name: \"Bob\"})-[r:LIVES_NEAR]->()\n",
    "DELETE r;"
   ]
  },
  {
   "cell_type": "code",
   "execution_count": null,
   "id": "a1ac864b",
   "metadata": {},
   "outputs": [],
   "source": [
    "%%oc\n",
    "MATCH (p:Person {name: \"Bob\"}), (s:Station {name: \"Canary Wharf\"})\n",
    "MERGE (p)-[r:LIVES_NEAR]->(s)\n",
    "RETURN p, r, s;"
   ]
  },
  {
   "cell_type": "code",
   "execution_count": null,
   "id": "ef62865a",
   "metadata": {
    "scrolled": false
   },
   "outputs": [],
   "source": [
    "%%oc\n",
    "MATCH (p:Person {name: 'Bob'})-[rl:LIVES_NEAR]->(s:Station)\n",
    "MATCH (l:Line)-[rc:CONSISTS_OF]->(s)\n",
    "RETURN p, s, l, rl, rc;"
   ]
  },
  {
   "cell_type": "code",
   "execution_count": null,
   "id": "9bef285e",
   "metadata": {},
   "outputs": [],
   "source": [
    "%%oc explain\n",
    "MATCH \n",
    "    (alison:Person {name: \"Alison\"})-[la:LIVES_NEAR]->(sa:Station),\n",
    "    (bob:Person {name: \"Bob\"})-[lb:LIVES_NEAR]->(sb:Station),\n",
    "    (sa)-[p:CONNECTS_TO*..10]-(sb)\n",
    "RETURN alison,la, bob, lb, p;"
   ]
  }
 ],
 "metadata": {
  "kernelspec": {
   "display_name": "Python 3",
   "language": "python",
   "name": "python3"
  },
  "language_info": {
   "codemirror_mode": {
    "name": "ipython",
    "version": 3
   },
   "file_extension": ".py",
   "mimetype": "text/x-python",
   "name": "python",
   "nbconvert_exporter": "python",
   "pygments_lexer": "ipython3",
   "version": "3.10.8"
  }
 },
 "nbformat": 4,
 "nbformat_minor": 5
}
