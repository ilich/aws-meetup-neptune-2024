{
 "cells": [
  {
   "cell_type": "markdown",
   "id": "3fb59a3d",
   "metadata": {},
   "source": [
    "## You can find the command details in [graph-notebook](https://github.com/aws/graph-notebook) repository"
   ]
  },
  {
   "cell_type": "code",
   "execution_count": null,
   "id": "cd718667",
   "metadata": {},
   "outputs": [],
   "source": [
    " %status"
   ]
  },
  {
   "cell_type": "code",
   "execution_count": null,
   "id": "97b50ec7",
   "metadata": {},
   "outputs": [],
   "source": [
    "%db_reset"
   ]
  },
  {
   "cell_type": "code",
   "execution_count": null,
   "id": "04dc6722",
   "metadata": {},
   "outputs": [],
   "source": [
    "%%oc\n",
    "MATCH (n)\n",
    "DETACH DELETE n;"
   ]
  },
  {
   "cell_type": "code",
   "execution_count": null,
   "id": "72f914a2",
   "metadata": {},
   "outputs": [],
   "source": [
    "%seed"
   ]
  },
  {
   "cell_type": "code",
   "execution_count": null,
   "id": "26447d51",
   "metadata": {},
   "outputs": [],
   "source": [
    "%load"
   ]
  },
  {
   "cell_type": "code",
   "execution_count": null,
   "id": "057ead87",
   "metadata": {},
   "outputs": [],
   "source": [
    "%load_status d5a32b74-4c3f-432f-b7e3-a8d3ccc7c5ec --details"
   ]
  },
  {
   "cell_type": "code",
   "execution_count": null,
   "id": "d9bda116",
   "metadata": {},
   "outputs": [],
   "source": [
    "%%oc\n",
    "MATCH (p:Person{name: \"Bob\"})\n",
    "RETURN p"
   ]
  },
  {
   "cell_type": "code",
   "execution_count": null,
   "id": "88edecd7",
   "metadata": {},
   "outputs": [],
   "source": [
    "%summary"
   ]
  }
 ],
 "metadata": {
  "kernelspec": {
   "display_name": "Python 3",
   "language": "python",
   "name": "python3"
  },
  "language_info": {
   "codemirror_mode": {
    "name": "ipython",
    "version": 3
   },
   "file_extension": ".py",
   "mimetype": "text/x-python",
   "name": "python",
   "nbconvert_exporter": "python",
   "pygments_lexer": "ipython3",
   "version": "3.10.8"
  }
 },
 "nbformat": 4,
 "nbformat_minor": 5
}
