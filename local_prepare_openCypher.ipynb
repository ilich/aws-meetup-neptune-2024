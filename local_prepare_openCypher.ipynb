{
 "cells": [
  {
   "cell_type": "code",
   "execution_count": null,
   "metadata": {},
   "outputs": [],
   "source": [
    "import os\n",
    "from os.path import join\n",
    "import csv\n",
    "\n",
    "IN = \"./data\"\n",
    "OUT = \"./out\"\n",
    "os.makedirs(OUT, exist_ok=True)"
   ]
  },
  {
   "cell_type": "markdown",
   "metadata": {},
   "source": [
    "# IMPORTANT! :ID must be unique across all nodes\n",
    "---"
   ]
  },
  {
   "cell_type": "code",
   "execution_count": null,
   "metadata": {},
   "outputs": [],
   "source": [
    "# Create stations.csv\n",
    "stations_in = join(IN, \"stations.csv\")\n",
    "stations_out = join(OUT, \"stations.csv\")\n",
    "with open(stations_in, \"r\") as f:\n",
    "    reader = csv.reader(f)\n",
    "    next(reader)\n",
    "    with open(stations_out, \"w\", newline=\"\", encoding=\"utf-8\") as g:\n",
    "        writer = csv.writer(g)\n",
    "        writer.writerow([\":ID(Station)\", \"name:String\", \":LABEL\"])\n",
    "        for row in reader:\n",
    "            writer.writerow([f\"s{row[0]}\", row[3], \"Station\"])\n",
    "\n",
    "print(\"Created stations.csv\")"
   ]
  },
  {
   "cell_type": "code",
   "execution_count": null,
   "metadata": {},
   "outputs": [],
   "source": [
    "# Create lines.csv\n",
    "lines_in = join(IN, \"lines_final.csv\")\n",
    "lines_out = join(OUT, \"lines.csv\")\n",
    "lines = set()\n",
    "with open(lines_in, \"r\") as f:\n",
    "    reader = csv.reader(f)\n",
    "    next(reader)\n",
    "    for row in reader:\n",
    "        lines.add((row[2], row[3], row[4]))\n",
    "\n",
    "with open(lines_out, \"w\", newline=\"\", encoding=\"utf-8\") as g:\n",
    "    writer = csv.writer(g)\n",
    "    writer.writerow([\":ID(Line)\", \"name:String\", \"color:String\", \":LABEL\"])\n",
    "    for id, name, color in lines:\n",
    "        writer.writerow([f\"l{id}\", name, f\"#{color}\", \"Line\"])\n",
    "\n",
    "print(\"Created lines.csv\")\n",
    "\n",
    "# Create line_stations.csv\n",
    "line_stations_out = join(OUT, \"line_stations.csv\")\n",
    "row_id = 1\n",
    "with open(lines_in, \"r\") as f:\n",
    "    reader = csv.reader(f)\n",
    "    next(reader)\n",
    "    with open(line_stations_out, \"w\", newline=\"\", encoding=\"utf-8\") as g:\n",
    "        writer = csv.writer(g)\n",
    "        writer.writerow([\":ID\", \":START_ID(Line)\", \":END_ID(Station)\", \":TYPE\"])\n",
    "        for row in reader:\n",
    "            writer.writerow([f\"els{row_id}\", f\"l{row[2]}\", f\"s{row[0]}\", \"CONSISTS_OF\"])\n",
    "            row_id += 1\n",
    "\n",
    "            writer.writerow([f\"els{row_id}\", f\"l{row[2]}\", f\"s{row[1]}\", \"CONSISTS_OF\"])\n",
    "            row_id += 1\n",
    "\n",
    "print(\"Created line_stations.csv\")\n",
    "\n",
    "# Create routers.csv\n",
    "routes_out = join(OUT, \"routes.csv\")\n",
    "row_id = 1\n",
    "with open(lines_in, \"r\") as f:\n",
    "    reader = csv.reader(f)\n",
    "    next(reader)\n",
    "    with open(routes_out, \"w\", newline=\"\", encoding=\"utf-8\") as g:\n",
    "        writer = csv.writer(g)\n",
    "        writer.writerow([\":ID\", \":START_ID(Station)\", \":END_ID(Station)\", \":TYPE\"])\n",
    "        for row in reader:\n",
    "            writer.writerow([f\"ess{row_id}\", f\"s{row[0]}\", f\"s{row[1]}\", \"CONNECTS_TO\"])\n",
    "            row_id += 1\n",
    "\n",
    "print(\"Created routers.csv\")"
   ]
  },
  {
   "cell_type": "code",
   "execution_count": null,
   "metadata": {},
   "outputs": [],
   "source": [
    "# Create persons.csv\n",
    "persons_in = join(IN, \"persons.csv\")\n",
    "persons_out = join(OUT, \"persons.csv\")\n",
    "with open(persons_in, \"r\") as f:\n",
    "    reader = csv.reader(f)\n",
    "    next(reader)\n",
    "    with open(persons_out, \"w\", newline=\"\", encoding=\"utf-8\") as g:\n",
    "        writer = csv.writer(g)\n",
    "        writer.writerow([\":ID(Person)\", \"name:String\", \":LABEL\"])\n",
    "        for row in reader:\n",
    "            writer.writerow([f\"p{row[0]}\", row[1], \"Person\"])\n",
    "\n",
    "print(\"Created persons.csv\")\n",
    "\n",
    "# Create person_stations.csv\n",
    "person_stations_out = join(OUT, \"person_stations.csv\")\n",
    "row_id = 1\n",
    "with open(persons_in, \"r\") as f:\n",
    "    reader = csv.reader(f)\n",
    "    next(reader)\n",
    "    with open(person_stations_out, \"w\", newline=\"\", encoding=\"utf-8\") as g:\n",
    "        writer = csv.writer(g)\n",
    "        writer.writerow([\":ID\", \":START_ID(Person)\", \":END_ID(Station)\", \":TYPE\"])\n",
    "        for row in reader:\n",
    "            writer.writerow([f\"eps{row_id}\", f\"p{row[0]}\", f\"s{row[2]}\", \"LIVES_NEAR\"])\n",
    "            row_id += 1"
   ]
  }
 ],
 "metadata": {
  "kernelspec": {
   "display_name": "Python 3",
   "language": "python",
   "name": "python3"
  },
  "language_info": {
   "codemirror_mode": {
    "name": "ipython",
    "version": 3
   },
   "file_extension": ".py",
   "mimetype": "text/x-python",
   "name": "python",
   "nbconvert_exporter": "python",
   "pygments_lexer": "ipython3",
   "version": "3.12.1"
  }
 },
 "nbformat": 4,
 "nbformat_minor": 2
}
